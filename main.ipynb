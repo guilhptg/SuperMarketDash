{
 "cells": [
  {
   "cell_type": "code",
   "execution_count": 1,
   "metadata": {},
   "outputs": [
    {
     "name": "stdout",
     "output_type": "stream",
     "text": [
      "Hello world\n",
      "<class 'pandas.core.frame.DataFrame'>\n",
      "MultiIndex: 1000 entries, ('0;750-67-8428;A;Yangon;Member;Female;Health and beauty;74', '69;7;26', '1415;548', '9715;1/5/2019;13:08;Ewallet;522', '83;4', '761904762;26', '1415;9') to ('999;849-09-3807;A;Yangon;Member;Female;Fashion accessories;88', '34;7;30', '919;649', '299;2/18/2019;13:28;Cash;618', '38;4', '761904762;30', '919;6')\n",
      "Data columns (total 1 columns):\n",
      " #   Column                                                                                                                                                         Non-Null Count  Dtype\n",
      "---  ------                                                                                                                                                         --------------  -----\n",
      " 0   ;Invoice ID;Branch;City;Customer type;Gender;Product line;Unit price;Quantity;Tax 5%;Total;Date;Time;Payment;cogs;gross margin percentage;gross income;Rating  1000 non-null   int64\n",
      "dtypes: int64(1)\n",
      "memory usage: 225.6+ KB\n"
     ]
    }
   ],
   "source": [
    "import pandas as pd\n",
    "import plotly.express as px\n",
    "import streamlit as st\n",
    "\n",
    "\n",
    "print('Hello world')\n",
    "\n",
    "df = pd.read_csv('supermarket_sales.csv', sep=',', decimal=',')\n",
    "\n"
   ]
  }
 ],
 "metadata": {
  "kernelspec": {
   "display_name": ".venv",
   "language": "python",
   "name": "python3"
  },
  "language_info": {
   "codemirror_mode": {
    "name": "ipython",
    "version": 3
   },
   "file_extension": ".py",
   "mimetype": "text/x-python",
   "name": "python",
   "nbconvert_exporter": "python",
   "pygments_lexer": "ipython3",
   "version": "3.12.6"
  }
 },
 "nbformat": 4,
 "nbformat_minor": 2
}
